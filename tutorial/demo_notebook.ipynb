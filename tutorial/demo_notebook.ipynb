{
 "cells": [
  {
   "cell_type": "markdown",
   "metadata": {},
   "source": [
    "# **MRPA-LegNet**: Predicting gene expression from human massively parallel reporter assays with SOTA convolutional networks"
   ]
  },
  {
   "cell_type": "markdown",
   "metadata": {},
   "source": [
    "This tutorial presents the use of MRPA-LegNet, a variant of LegNet ([Paper](https://doi.org/10.1093/bioinformatics/btad457),\n",
    "[Repo](https://github.com/autosome-ru/LegNet/)) that was specifically modified and optimized for predicting gene expression from human massive parallel reporter assays performed with human K562, HepG2, and WTC11 cell lines."
   ]
  },
  {
   "cell_type": "markdown",
   "metadata": {},
   "source": [
    "Please don't hesitate to ask questions or share any feedback: dmitrypenzar1996@gmail.com"
   ]
  },
  {
   "cell_type": "markdown",
   "metadata": {},
   "source": [
    "In order to train the model, a set of sequences with corresponding expression values is needed. We use MPRA data from the accompanying ZENODO repository [*link*] for the purposes of this tutorial."
   ]
  },
  {
   "cell_type": "code",
   "execution_count": 29,
   "metadata": {},
   "outputs": [],
   "source": [
    "from helper_functions import *"
   ]
  },
  {
   "cell_type": "markdown",
   "metadata": {},
   "source": [
    "### The formal description of the problem"
   ]
  },
  {
   "cell_type": "markdown",
   "metadata": {},
   "source": [
    "In contrast to the standard LegNet version ([Paper](https://doi.org/10.1093/bioinformatics/btad457),\n",
    "[Repo](https://github.com/autosome-ru/LegNet/)), this version solves the problem of predicting gene expression from human massive parallel reporter assays in the classical setting, i.e. regression to single expression value, see Fig. 2b in [de Boer et al. (2020)](https://doi.org/10.1038/s41587-019-0315-8)."
   ]
  },
  {
   "cell_type": "markdown",
   "metadata": {},
   "source": [
    "## Specify parameters"
   ]
  },
  {
   "cell_type": "markdown",
   "metadata": {},
   "source": [
    "### 1. Data"
   ]
  },
  {
   "cell_type": "markdown",
   "metadata": {},
   "source": [
    "The tab-separated training data must use the following format:\n",
    "\n",
    "- First column: sequence. Second column: expression value. Third column: fold (optional).\n",
    "- The data should be provided without any extra header line.\n"
   ]
  },
  {
   "cell_type": "markdown",
   "metadata": {},
   "source": [
    "* ***model_dir*** - url of folder for all outputs;\n",
    "* ***data_path*** - url of folder for input data;\n",
    "* ***delimeter*** - delimeter between columns in training data files."
   ]
  },
  {
   "cell_type": "code",
   "execution_count": 2,
   "metadata": {},
   "outputs": [],
   "source": [
    "model_dir = Path('model')\n",
    "data_path = Path('dataset')\n",
    "delimiter = \"\\t\"\n",
    "\n",
    "train_path = data_path / 'WTC11_train.tsv'\n",
    "valid_path = data_path / 'WTC11_valid.tsv'\n",
    "test_path = data_path / 'WTC11_test.tsv'"
   ]
  },
  {
   "cell_type": "markdown",
   "metadata": {},
   "source": [
    "The sequences are required to have equal lengths. We'll use both shift and reverse sequences augmentation. Shift augmentation requires a pre-defined surrounding plasmid sequence (forward and reverse sides). "
   ]
  },
  {
   "cell_type": "markdown",
   "metadata": {},
   "source": [
    "Specify length of sequences (*seqsize*) and maximum shift in both directions for data augmentation (*max_shift*, first element determines shift to the forward side, second - to the reverse side)."
   ]
  },
  {
   "cell_type": "code",
   "execution_count": 3,
   "metadata": {},
   "outputs": [],
   "source": [
    "forward_side = \"GGCCCGCTCTAGACCTGCAGG\"\n",
    "reverse_side = \"CACTAGAGGGTATATAATGGAAGCTCGACTTCCAGCTTGGCAATCCGGTACTGT\"\n",
    "seqsize = 230 \n",
    "max_shift = (len(forward_side),\n",
    "             len(reverse_side))"
   ]
  },
  {
   "cell_type": "markdown",
   "metadata": {},
   "source": [
    "### 2. Model Architecture"
   ]
  },
  {
   "cell_type": "markdown",
   "metadata": {},
   "source": [
    "* ***in_ch*** - number of input channels for the model (one for each nucleotide, which adds up to 4, one additional for information on whether the original sequence was subjected to the reverse complementary transformation);\n",
    "* ***stem_ch*** - number of output channels of the first (stem) block;\n",
    "* ***stem_ks*** - kernel size of one-dimensional convolutional layer in the stem block;\n",
    "* ***ef_ks*** - kernel size of convolutional layers in EfficientNet-like bloks;\n",
    "* ***ef_block_sizes*** - list containing the number of channels for each EfficientNet-like block. The number of elements must be the same as in the next parameter;\n",
    "* ***pool_sizes*** - list containing the parameters for 1D max pooling of each EfficientNet-like block. The number of elements must be the same as in the previous parameter;\n",
    "* ***resize_factor*** - inverse of reduction parameter in squeeze-and-excitation blocks."
   ]
  },
  {
   "cell_type": "code",
   "execution_count": 4,
   "metadata": {},
   "outputs": [],
   "source": [
    "in_ch = 5\n",
    "stem_ch = 64\n",
    "stem_ks = 11\n",
    "ef_ks = 9\n",
    "ef_block_sizes = [80, 96, 112, 128]\n",
    "pool_sizes = [2, 2, 2, 2]\n",
    "resize_factor = 4\n"
   ]
  },
  {
   "cell_type": "markdown",
   "metadata": {},
   "source": [
    "### 3 Model Training"
   ]
  },
  {
   "cell_type": "markdown",
   "metadata": {},
   "source": [
    "#### Augmentation arguments\n",
    "* ***reverse_augment*** - whether or not augment data with reverse complementary sequences;\n",
    "* ***use_reverse_channel*** - whether or not add reverse augmentation channel. **Note, that this is not the same as reverse_augment**. The channel is usually supplied with either zeros (denoting forward) or ones (reverse complementary sequence);\n",
    "* ***use_shift*** - whether or not augment data with shifted sequences (maximum possible degree of shift is defined in `max_shift` variable)."
   ]
  },
  {
   "cell_type": "code",
   "execution_count": 5,
   "metadata": {},
   "outputs": [],
   "source": [
    "reverse_augment = True\n",
    "use_reverse_channel = True\n",
    "use_shift = True"
   ]
  },
  {
   "cell_type": "markdown",
   "metadata": {},
   "source": [
    "#### Optimizer & Scheduler arguments\n",
    "* ***max_lr*** - maximum learing rate during One Cycle Policy (OneCycleLR);\n",
    "* ***weight_decay*** - weight decay coefficient for AdamW alghoritm;\n",
    "* ***epoch_num*** - total number of epochs during training."
   ]
  },
  {
   "cell_type": "code",
   "execution_count": 6,
   "metadata": {},
   "outputs": [],
   "source": [
    "max_lr = 0.1\n",
    "weight_decay = 0.1\n",
    "epoch_num = 20"
   ]
  },
  {
   "cell_type": "code",
   "execution_count": 7,
   "metadata": {},
   "outputs": [],
   "source": [
    "loss = nn.MSELoss()\n",
    "train_batch_size = 1024\n",
    "test_batch_size = 1024\n",
    "weight_decay = 0.01\n",
    "num_workers = 8"
   ]
  },
  {
   "cell_type": "markdown",
   "metadata": {},
   "source": [
    "### Other arguments"
   ]
  },
  {
   "cell_type": "code",
   "execution_count": 8,
   "metadata": {},
   "outputs": [],
   "source": [
    "device=1\n",
    "seed = 777\n",
    "set_global_seed(seed)\n",
    "torch.set_float32_matmul_precision('medium')"
   ]
  },
  {
   "cell_type": "markdown",
   "metadata": {},
   "source": [
    "## Data Preprocessing"
   ]
  },
  {
   "cell_type": "markdown",
   "metadata": {},
   "source": [
    "### 1. Input vector structure\n",
    "Training sequences were encoded into 4-dimensional vectors using one-hot encoding (`Seq2Tensor` class)\n"
   ]
  },
  {
   "cell_type": "markdown",
   "metadata": {},
   "source": [
    "Since the regulatory elements are often asymmetric relative to the transcription start sites, **different scores are expected for direct and reverse complementary strands of a particular sequence**. Thus, the data can be augmented by providing each sequence twice in *native* and *reverse complementary form*, specifying `0` and `1`, respectively, in an additional `is_reverse` channel. The test-time augmentation can be performed by averaging the predictions made for direct (`is_reverse=0`) and reverse complementary (`is_reverse=1`) input.\n",
    "\n",
    "![One hot encoding of input sequence](https://raw.githubusercontent.com/autosome-ru/LegNet/b0432ddead56e455b0d54ca798b5408dc496a8e7/tutorial/img/Input.jpg)\n",
    "\n",
    "**Can I remove singleton channel and reuse this image?**"
   ]
  },
  {
   "cell_type": "code",
   "execution_count": 9,
   "metadata": {},
   "outputs": [],
   "source": [
    "class Seq2Tensor(nn.Module):\n",
    "    '''\n",
    "    Encode sequences using one-hot encoding after preprocessing.\n",
    "    '''\n",
    "    def __init__(self):\n",
    "        super().__init__()\n",
    "    def forward(self, seq):\n",
    "        if isinstance(seq, torch.FloatTensor):\n",
    "            return seq\n",
    "        seq = [n2id(x) for x in seq]\n",
    "        code = torch.from_numpy(np.array(seq))\n",
    "        code = F.one_hot(code, num_classes=5) # 5th class is N\n",
    "        \n",
    "        code[code[:, 4] == 1] = 0.25 # encode Ns with .25\n",
    "        code = code[:, :4].float() \n",
    "        return code.transpose(0, 1)"
   ]
  },
  {
   "cell_type": "markdown",
   "metadata": {},
   "source": [
    "### 2. Sequence Datasets\n",
    "Trainer code uses [pytorch-lightning](https://github.com/Lightning-AI/pytorch-lightning) module.\n",
    "\n",
    "Sequence datasets are implemented in `TrainSeqDatasetProb` and `TestSeqDatasetProb` classes. The difference between the two classes lies primarily in the **\\_\\_getitem\\_\\_** method (for selecting *i*-th sequence from the `pandas.DataFrame`). \n",
    "\n",
    "During training (`TrainSeqDatasetProb`), data can be augmented in two ways - by means of shift and reverse augmentations, where sequence shift is uniformly distributed in the boundaries defined by `maxshift`. \n",
    "\n",
    "In the second case (`TestSeqDatasetProb`) sequences can be constantly shifted and/or reversed (which is not data augmentation *per se*)."
   ]
  },
  {
   "cell_type": "markdown",
   "metadata": {},
   "source": [
    "##### `TrainSeqDatasetProb`\n",
    "**\\_\\_init\\_\\_** parameters:\n",
    "- ***ds***: `pd.DataFrame` - Training dataset;\n",
    "- ***use_shift***: `bool` - If True, additional shift augmentation is used;\n",
    "- ***use_reverse***: `bool` - If True, additional reverse augmentation is used;\n",
    "- ***use_reverse_channel***: `bool` - If True, extra channel indicating reversed sequences is added. **Note that this is not the same as *use_reverse***;\n",
    "- ***seqsize***: `int` - Constant sequence length;\n",
    "- ***maxshift***: `tuple[int, int]` - Maximum shift in both directions.\n",
    "\n",
    "**\\_\\_getitem\\_\\_** output for `i`-th sequence (row) in the training dataset (`ds`):\n",
    "- ***X***: `torch.Tensor` - One-hot encoding tensor (with reverse channel if required).\n",
    "- ***bin***: `float` - Training expression value"
   ]
  },
  {
   "cell_type": "code",
   "execution_count": 10,
   "metadata": {},
   "outputs": [],
   "source": [
    "class TrainSeqDatasetProb(Dataset):\n",
    "    def __init__(self, \n",
    "                 ds: pd.DataFrame,\n",
    "                 use_reverse: bool,\n",
    "                 use_shift: bool,\n",
    "                 use_reverse_channel: bool,  \n",
    "                 seqsize=230,\n",
    "                 max_shift: tuple[int, int] | None = None, \n",
    "                 training=True):\n",
    "        self.training = training\n",
    "\n",
    "        self.ds = ds\n",
    "        self.totensor = Seq2Tensor() \n",
    "        self.use_reverse = use_reverse\n",
    "        self.use_shift = use_shift\n",
    "        self.use_reverse_channel = use_reverse_channel\n",
    "        self.forward_side = forward_side\n",
    "        self.reverse_side = reverse_side\n",
    "        self.seqsize = seqsize \n",
    "        if max_shift is None:\n",
    "            self.max_shift = (0, len(self.forward_side))\n",
    "        else:\n",
    "            self.max_shift = max_shift\n",
    "        \n",
    "            \n",
    "    def transform(self, x):\n",
    "        assert isinstance(x, str)\n",
    "        return self.totensor(x)\n",
    "    \n",
    "    def __getitem__(self, i):\n",
    "\n",
    "        seq = self.ds.seq.values[i]\n",
    "        \n",
    "        if self.use_shift:\n",
    "            shift = torch.randint(size=(1,), low=-self.max_shift[0], high=self.max_shift[1] + 1).item()\n",
    "            if shift < 0: # use forward primer\n",
    "                seq = seq[:shift]\n",
    "                seq = self.forward_side[shift:] + seq\n",
    "            elif shift > 0:\n",
    "                seq = seq[shift:]\n",
    "                seq = seq + self.reverse_side[:shift]\n",
    "            else: # shift = 0\n",
    "                pass # nothing to do\n",
    "\n",
    "        if self.use_reverse:\n",
    "            r = torch.rand((1,)).item()\n",
    "            if  r > 0.5:\n",
    "                seq = reverse_complement(seq)\n",
    "                rev = 1.0\n",
    "            else:\n",
    "                rev = 0.0\n",
    "        else:\n",
    "            rev = 0.0\n",
    "            \n",
    "        seq = self.transform(seq)\n",
    "        to_concat = [seq]\n",
    "        \n",
    "        # add reverse augmentation channel\n",
    "        if self.use_reverse_channel:\n",
    "            rev = torch.full( (1, self.seqsize), rev, dtype=torch.float32)\n",
    "            to_concat.append(rev)\n",
    "            \n",
    "        # create final tensor\n",
    "        if len(to_concat) > 1:\n",
    "            X = torch.concat(to_concat, dim=0)\n",
    "        else:\n",
    "            X = seq\n",
    "            \n",
    "        mean = self.ds.mean_value.values[i]\n",
    "        \n",
    "        return X, mean.astype(np.float32)\n",
    "    \n",
    "    def __len__(self):\n",
    "        return len(self.ds.seq)"
   ]
  },
  {
   "cell_type": "markdown",
   "metadata": {},
   "source": [
    "##### `TestSeqDatasetProb`\n",
    "**\\_\\_init\\_\\_** parameters:\n",
    "- ***ds***: `pd.DataFrame` - Test dataset;\n",
    "- ***shift***: `int` - All sequences shifted by a constant value;\n",
    "- ***reverse***: `bool` - If True, all sequences are reversed;\n",
    "- ***use_reverse_channel***: `bool` - If True, extra channel indicating reversed sequences is added. **Note that this is not the same as *reverse***;\n",
    "- ***seqsize***: `int` - Constant sequence length.\n",
    "\n",
    "**\\_\\_getitem\\_\\_** output for `i`-th sequence (row) in the test dataset (`ds`):\n",
    "- ***X***: `torch.Tensor` - One-hot encoding tensor (with reverse channel if required).\n",
    "- ***bin***: `float` - Test expression value"
   ]
  },
  {
   "cell_type": "code",
   "execution_count": 11,
   "metadata": {},
   "outputs": [],
   "source": [
    "class TestSeqDatasetProb(Dataset):\n",
    "    def __init__(self, \n",
    "                 ds: pd.DataFrame,\n",
    "                 reverse: bool,\n",
    "                 shift: int,  \n",
    "                 use_reverse_channel: bool = True,\n",
    "                 seqsize=230):       \n",
    "        self.ds = ds\n",
    "        self.totensor = Seq2Tensor()\n",
    "        self.use_reverse_channel = use_reverse_channel \n",
    "        self.reverse = reverse\n",
    "        self.shift = shift\n",
    "        self.forward_side = forward_side\n",
    "        self.reverse_side = reverse_side\n",
    "        self.seqsize = seqsize \n",
    "\n",
    "        \n",
    "    def transform(self, x):\n",
    "        assert isinstance(x, str)\n",
    "        return self.totensor(x)\n",
    "    \n",
    "    def __getitem__(self, i):\n",
    "        seq = self.ds.seq.values[i]\n",
    "        \n",
    "        if self.shift < 0: # use forward primer\n",
    "            seq = seq[:self.shift]\n",
    "            seq = self.forward_side[self.shift:] + seq\n",
    "        elif self.shift > 0:\n",
    "            seq = seq[self.shift:]\n",
    "            seq = seq + self.reverse_side[:self.shift]\n",
    "        else: # shift = 0\n",
    "            pass # nothing to do\n",
    "\n",
    "        \n",
    "        if self.reverse:\n",
    "            seq = reverse_complement(seq)\n",
    "            rev = 1.0\n",
    "        else:\n",
    "            rev = 0.0\n",
    "\n",
    "        seq = self.transform(seq)\n",
    "        to_concat = [seq]\n",
    "        \n",
    "        # add reverse augmentation channel\n",
    "        if self.use_reverse_channel:\n",
    "            rev = torch.full( (1, self.seqsize), rev, dtype=torch.float32)\n",
    "            to_concat.append(rev)\n",
    "            \n",
    "        # create final tensor\n",
    "        if len(to_concat) > 1:\n",
    "            X = torch.concat(to_concat, dim=0)\n",
    "        else:\n",
    "            X = seq\n",
    "            \n",
    "        mean = self.ds.mean_value.values[i]\n",
    "        \n",
    "        return X, mean.astype(np.float32)\n",
    "    \n",
    "    def __len__(self):\n",
    "        return len(self.ds.seq)"
   ]
  },
  {
   "cell_type": "markdown",
   "metadata": {},
   "source": [
    "### 3. Lightning Datamodule\n",
    "`SeqDataModule` inherits `lightning.pytorch.LightningDataModule`. This class loads test and train datasets for **pytorch-lightning** module. \n",
    "Note, that in *dataset.py* file from the source code this class splits unified file into train, validation and test datasets based on values in the `fold_num` column, whilst pre-splitted files are used in this tutorial.\n",
    "\n",
    "`SeqDataModule` passes ***reverse_augment***, ***use_reverse_channel***, ***use_shift***, ***max_shift*** parameters to the `TrainSeqDatasetProb` and `TestSeqDatasetProb` classes and ***train_batch_size***, ***test_batch_size***, ***num_workers*** parameters to the `torch.utils.data.DataLoader` class.\n",
    "\n",
    "- **train_dataloader** creates training DataLoader for `trainer.fit()`;\n",
    "- **val_dataloader** creates validation DataLoader for `trainer.fit()`. Based on highest Pearson coefficient between predicted and true validation expression values best-performing model across all epochs will be selected;\n",
    "- **dls_for_predictions** creates test DataLoader (with reverse sequences, if required) for `trainer.predict()`."
   ]
  },
  {
   "cell_type": "code",
   "execution_count": 12,
   "metadata": {},
   "outputs": [],
   "source": [
    "class SeqDataModule(pl.LightningDataModule):\n",
    "    def __init__(self, \n",
    "                 train_path: str,\n",
    "                 valid_path: str,\n",
    "                 test_path: str):\n",
    "        super().__init__()\n",
    "        \n",
    "        ds_columns = ['seq', 'mean_value']\n",
    "        self.train = pd.read_csv(train_path, sep='\\t')\n",
    "        self.valid = pd.read_csv(valid_path, sep='\\t')\n",
    "        self.test = pd.read_csv(test_path, sep='\\t')\n",
    "        self.train.columns = ds_columns\n",
    "        self.valid.columns = ds_columns\n",
    "        self.test.columns = ds_columns\n",
    "        \n",
    "        \n",
    "    def train_dataloader(self):\n",
    "        train_ds =  TrainSeqDatasetProb(self.train,\n",
    "                                   use_reverse=reverse_augment,\n",
    "                                   use_reverse_channel=use_reverse_channel,\n",
    "                                   use_shift=use_shift,\n",
    "                                   max_shift=max_shift)\n",
    "        \n",
    "        return DataLoader(train_ds, \n",
    "                          batch_size=train_batch_size,\n",
    "                          num_workers=num_workers,\n",
    "                          shuffle=True) \n",
    "    \n",
    "    def val_dataloader(self): # test dataset\n",
    "        valid_ds = TestSeqDatasetProb(self.valid, \n",
    "                                  use_reverse_channel=use_reverse_channel,\n",
    "                                  shift=0,\n",
    "                                  reverse=False)\n",
    "\n",
    "        return DataLoader(valid_ds, \n",
    "                          batch_size=train_batch_size,\n",
    "                          num_workers=num_workers,\n",
    "                          shuffle=False)\n",
    "        \n",
    "    def dls_for_predictions(self): #\n",
    "        \n",
    "        test_ds = TestSeqDatasetProb(self.test,\n",
    "                                  use_reverse_channel=use_reverse_channel,\n",
    "                                  shift=0,\n",
    "                                  reverse=False)\n",
    "        test_dl =  DataLoader(test_ds,\n",
    "                              batch_size=test_batch_size,\n",
    "                              num_workers=num_workers,\n",
    "                              shuffle=False)\n",
    "        yield \"forw_pred\", test_dl\n",
    "        if reverse_augment:\n",
    "            rev_test_ds = TestSeqDatasetProb(self.test,\n",
    "                                  use_reverse_channel=use_reverse_channel,\n",
    "                                  shift=0,\n",
    "                                  reverse=True)\n",
    "            rev_test_dl =  DataLoader(rev_test_ds,\n",
    "                              batch_size=test_batch_size,\n",
    "                              num_workers=num_workers,\n",
    "                              shuffle=False)\n",
    "            yield \"rev_pred\", rev_test_dl"
   ]
  },
  {
   "cell_type": "markdown",
   "metadata": {},
   "source": [
    "## Model architecture\n",
    "Our model is based upon a fully-convolutional neural network architecture inspired by EfficientNetV2 with selected features from DenseNet and additional custom blocks.\n",
    "\n",
    "![LegNet architecture](https://raw.githubusercontent.com/autosome-ru/LegNet/b0432ddead56e455b0d54ca798b5408dc496a8e7/tutorial/img/A.jpg)"
   ]
  },
  {
   "cell_type": "code",
   "execution_count": 13,
   "metadata": {},
   "outputs": [],
   "source": [
    "class SELayer(nn.Module):\n",
    "    def __init__(self, inp, reduction=4):\n",
    "        super(SELayer, self).__init__()\n",
    "        self.fc = nn.Sequential(\n",
    "                nn.Linear(inp, int(inp // reduction)),\n",
    "                nn.SiLU(),\n",
    "                nn.Linear(int(inp // reduction), inp),\n",
    "                nn.Sigmoid()\n",
    "        )\n",
    "\n",
    "    def forward(self, x):\n",
    "        b, c, _, = x.size()\n",
    "        y = x.view(b, c, -1).mean(dim=2)\n",
    "        y = self.fc(y).view(b, c, 1)\n",
    "        return x * y"
   ]
  },
  {
   "cell_type": "code",
   "execution_count": 14,
   "metadata": {},
   "outputs": [],
   "source": [
    "class EffBlock(nn.Module):\n",
    "    def __init__(self, in_ch, ks, resize_factor, activation, out_ch=None, se_reduction=None):\n",
    "        super().__init__()\n",
    "        self.in_ch = in_ch\n",
    "        self.out_ch = self.in_ch if out_ch is None else out_ch\n",
    "        self.resize_factor = resize_factor\n",
    "        self.se_reduction = resize_factor if se_reduction is None else se_reduction\n",
    "        self.ks = ks\n",
    "        self.inner_dim = self.in_ch * self.resize_factor\n",
    "        \n",
    "        block = nn.Sequential(\n",
    "                        nn.Conv1d(\n",
    "                            in_channels=self.in_ch,\n",
    "                            out_channels=self.inner_dim,\n",
    "                            kernel_size=1,\n",
    "                            padding='same',\n",
    "                            bias=False\n",
    "                       ),\n",
    "                       nn.BatchNorm1d(self.inner_dim),\n",
    "                       activation(),\n",
    "                       \n",
    "                       nn.Conv1d(\n",
    "                            in_channels=self.inner_dim,\n",
    "                            out_channels=self.inner_dim,\n",
    "                            kernel_size=ks,\n",
    "                            groups=self.inner_dim,\n",
    "                            padding='same',\n",
    "                            bias=False\n",
    "                       ),\n",
    "                       nn.BatchNorm1d(self.inner_dim),\n",
    "                       activation(),\n",
    "                       SELayer(self.inner_dim, reduction=self.se_reduction),\n",
    "                       nn.Conv1d(\n",
    "                            in_channels=self.inner_dim,\n",
    "                            out_channels=self.in_ch,\n",
    "                            kernel_size=1,\n",
    "                            padding='same',\n",
    "                            bias=False\n",
    "                       ),\n",
    "                       nn.BatchNorm1d(self.in_ch),\n",
    "                       activation(),\n",
    "        )\n",
    "        \n",
    "        self.block = block\n",
    "    \n",
    "    def forward(self, x):\n",
    "        return self.block(x)"
   ]
  },
  {
   "cell_type": "code",
   "execution_count": 15,
   "metadata": {},
   "outputs": [],
   "source": [
    "class LocalBlock(nn.Module):\n",
    "    def __init__(self, in_ch, ks, activation, out_ch=None):\n",
    "        super().__init__()\n",
    "        self.in_ch = in_ch\n",
    "        self.out_ch = self.in_ch if out_ch is None else out_ch\n",
    "        self.ks = ks\n",
    "        \n",
    "        self.block = nn.Sequential(\n",
    "                       nn.Conv1d(\n",
    "                            in_channels=self.in_ch,\n",
    "                            out_channels=self.out_ch,\n",
    "                            kernel_size=self.ks,\n",
    "                            padding='same',\n",
    "                            bias=False\n",
    "                       ),\n",
    "                       nn.BatchNorm1d(self.out_ch),\n",
    "                       activation()\n",
    "        )\n",
    "        \n",
    "    def forward(self, x):\n",
    "        return self.block(x)\n"
   ]
  },
  {
   "cell_type": "code",
   "execution_count": 16,
   "metadata": {},
   "outputs": [],
   "source": [
    "class ResidualConcat(nn.Module):\n",
    "    def __init__(self, fn):\n",
    "        super().__init__()\n",
    "        self.fn = fn\n",
    "\n",
    "    def forward(self, x, **kwargs):\n",
    "        return torch.concat([self.fn(x, **kwargs), x], dim=1)"
   ]
  },
  {
   "cell_type": "code",
   "execution_count": 17,
   "metadata": {},
   "outputs": [],
   "source": [
    "class MapperBlock(nn.Module):\n",
    "    def __init__(self, in_features, out_features, activation=nn.SiLU):\n",
    "        super().__init__()\n",
    "        self.block = nn.Sequential(\n",
    "            nn.BatchNorm1d(in_features),\n",
    "            nn.Conv1d(in_channels=in_features,\n",
    "                      out_channels=out_features, \n",
    "                      kernel_size=1),\n",
    "        )\n",
    "        \n",
    "    def forward(self, x):\n",
    "        return self.block(x) "
   ]
  },
  {
   "cell_type": "code",
   "execution_count": 18,
   "metadata": {},
   "outputs": [],
   "source": [
    "class LegNet(nn.Module):\n",
    "    def __init__(self, \n",
    "                 in_ch,\n",
    "                 stem_ch,\n",
    "                 stem_ks, \n",
    "                 ef_ks,\n",
    "                 ef_block_sizes,\n",
    "                 pool_sizes,\n",
    "                 resize_factor,\n",
    "                 activation=nn.SiLU,\n",
    "                 ):\n",
    "        super().__init__()\n",
    "        assert len(pool_sizes) == len(ef_block_sizes)\n",
    "        \n",
    "        self.in_ch = in_ch\n",
    "        self.stem = LocalBlock(in_ch=in_ch, \n",
    "                               out_ch=stem_ch,\n",
    "                               ks=stem_ks,\n",
    "                               activation=activation)\n",
    "        \n",
    "        blocks = []\n",
    "       \n",
    "        in_ch = stem_ch\n",
    "        out_ch = stem_ch\n",
    "        for pool_sz, out_ch in zip(pool_sizes, ef_block_sizes):\n",
    "            blc = nn.Sequential(\n",
    "                ResidualConcat(\n",
    "                    EffBlock(\n",
    "                        in_ch=in_ch, \n",
    "                        out_ch=in_ch,\n",
    "                        ks=ef_ks,\n",
    "                        resize_factor=resize_factor,\n",
    "                        activation=activation)\n",
    "                ),\n",
    "                LocalBlock(in_ch=in_ch * 2,\n",
    "                           out_ch=out_ch,\n",
    "                           ks=ef_ks,\n",
    "                           activation=activation),\n",
    "                nn.MaxPool1d(pool_sz) if pool_sz != 1 else nn.Identity()\n",
    "            )\n",
    "            in_ch = out_ch\n",
    "            blocks.append(blc)\n",
    "        self.main = nn.Sequential(*blocks)\n",
    "        \n",
    "        self.mapper = MapperBlock(in_features=out_ch, \n",
    "                                  out_features=out_ch * 2)\n",
    "        self.head = nn.Sequential(nn.Linear(out_ch * 2, out_ch * 2),\n",
    "                                   nn.BatchNorm1d(out_ch * 2),\n",
    "                                   activation(),\n",
    "                                   nn.Linear(out_ch * 2, 1))\n",
    "            \n",
    "    def forward(self, x):\n",
    "        x = self.stem(x)\n",
    "        x = self.main(x)\n",
    "        x = self.mapper(x)\n",
    "        x =  F.adaptive_avg_pool1d(x, 1)\n",
    "        x = x.squeeze(-1)\n",
    "        x = self.head(x)\n",
    "        x = x.squeeze(-1)\n",
    "        return x"
   ]
  },
  {
   "cell_type": "markdown",
   "metadata": {},
   "source": [
    "### 4. Trainer\n",
    "The trainer is `LitModel` class, which inherits `lightning.pytorch.LightningModule`.\n",
    "Here we instantiate our model, initialize it's weights and pass loss function and metric for validation (`PearsonCorrCoef`).\n",
    "\n",
    "Also we define training, validation, test and predict steps for pl.LightningModule"
   ]
  },
  {
   "cell_type": "code",
   "execution_count": 19,
   "metadata": {},
   "outputs": [],
   "source": [
    "class LitModel(pl.LightningModule):\n",
    "    def __init__(self, max_lr):\n",
    "        super().__init__()\n",
    "        \n",
    "        self.model = LegNet(in_ch=in_ch,\n",
    "                            stem_ch=stem_ch,\n",
    "                            stem_ks=stem_ks,\n",
    "                            ef_ks=ef_ks,\n",
    "                            ef_block_sizes=ef_block_sizes,  \n",
    "                            resize_factor=resize_factor,\n",
    "                            pool_sizes=pool_sizes)\n",
    "        self.model.apply(initialize_weights)\n",
    "        self.loss = loss\n",
    "        self.val_pearson = PearsonCorrCoef()\n",
    "        self.max_lr = max_lr\n",
    "        \n",
    "    def training_step(self, batch, _):\n",
    "        X, y = batch\n",
    "        y_hat = self.model(X)\n",
    "\n",
    "        loss = self.loss(y_hat, y)\n",
    "        \n",
    "        self.log(\"train_loss\", loss, prog_bar=True,  on_step=False, on_epoch=True,  logger=True)\n",
    "        return loss\n",
    "    \n",
    "    def validation_step(self, batch, _):\n",
    "        x, y = batch\n",
    "        y_hat = self.model(x)\n",
    "        loss = self.loss(y_hat, y)\n",
    "        self.log('val_loss', loss, on_step=False, on_epoch=True)\n",
    "        self.val_pearson(y_hat, y)\n",
    "        self.log(\"val_pearson\", self.val_pearson, on_epoch=True)\n",
    "    \n",
    "    def test_step(self, batch, _):\n",
    "        x, y = batch\n",
    "        y_hat = self.model(x)\n",
    "        loss = self.loss(y_hat, y)\n",
    "        self.log('test_loss', \n",
    "                 loss, \n",
    "                 prog_bar=True, \n",
    "                 on_step=False,\n",
    "                 on_epoch=True)\n",
    "        \n",
    "    def predict_step(self, batch, _):\n",
    "        if isinstance(batch, (tuple, list)):\n",
    "            x, _ = batch \n",
    "        else:\n",
    "            x = batch\n",
    "        y_hat = self.model(x)\n",
    "        return y_hat\n",
    "        \n",
    "    def configure_optimizers(self):\n",
    "        optimizer = torch.optim.AdamW(self.parameters(), \n",
    "                                      lr=self.max_lr  / 25,\n",
    "                                      weight_decay=weight_decay)\n",
    "        lr_scheduler = torch.optim.lr_scheduler.OneCycleLR(optimizer, # type: ignore\n",
    "                                                        max_lr=self.max_lr ,\n",
    "                                                        three_phase=False, \n",
    "                                                        total_steps=self.trainer.estimated_stepping_batches, # type: ignore\n",
    "                                                        pct_start=0.3,\n",
    "                                                        cycle_momentum =False)\n",
    "        \n",
    "        lr_scheduler_config = {\n",
    "            # REQUIRED: The scheduler instance\n",
    "            \"scheduler\": lr_scheduler,\n",
    "            # The unit of the scheduler's step size, could also be 'step'.\n",
    "            # 'epoch' updates the scheduler on epoch end whereas 'step'\n",
    "            # updates it after a optimizer update.\n",
    "            \"interval\": \"step\",\n",
    "            # How many epochs/steps should pass between calls to\n",
    "            # `scheduler.step()`. 1 corresponds to updating the learning\n",
    "            # rate after every epoch/step.\n",
    "            \"frequency\": 1,\n",
    "            # If using the `LearningRateMonitor` callback to monitor the\n",
    "            # learning rate progress, this keyword can be used to specify\n",
    "            # a custom logged name\n",
    "            \"name\": \"cycle_lr\"\n",
    "        }\n",
    "        return [optimizer], [lr_scheduler_config]"
   ]
  },
  {
   "cell_type": "markdown",
   "metadata": {},
   "source": [
    "## LR Finder\n",
    "Here we'll define optimum learning rate value for model training.\n",
    "\n",
    "Pass `pl.Trainer` instance to `pl.tuner.Tuner`, then run `Tuner.lr_find` on train data."
   ]
  },
  {
   "cell_type": "code",
   "execution_count": 20,
   "metadata": {},
   "outputs": [
    {
     "name": "stdout",
     "output_type": "stream",
     "text": [
      "Parameter count:  tensor(1323169)\n"
     ]
    },
    {
     "name": "stderr",
     "output_type": "stream",
     "text": [
      "Using 16bit Automatic Mixed Precision (AMP)\n",
      "GPU available: True (cuda), used: True\n",
      "TPU available: False, using: 0 TPU cores\n",
      "IPU available: False, using: 0 IPUs\n",
      "HPU available: False, using: 0 HPUs\n",
      "/home/nikgr/miniconda3/envs/legnet/lib/python3.11/site-packages/lightning/pytorch/trainer/connectors/logger_connector/logger_connector.py:67: UserWarning: Starting from v1.9.0, `tensorboardX` has been removed as a dependency of the `lightning.pytorch` package, due to potential conflicts with other packages in the ML ecosystem. For this reason, `logger=True` will use `CSVLogger` as the default logger, unless the `tensorboard` or `tensorboardX` packages are found. Please `pip install lightning[extra]` or one of them to enable TensorBoard support by default\n",
      "  warning_cache.warn(\n",
      "Loading `train_dataloader` to estimate number of stepping batches.\n"
     ]
    },
    {
     "name": "stdout",
     "output_type": "stream",
     "text": [
      "Estimated stepping batches -1\n"
     ]
    },
    {
     "name": "stderr",
     "output_type": "stream",
     "text": [
      "/home/nikgr/miniconda3/envs/legnet/lib/python3.11/site-packages/lightning/pytorch/loops/utilities.py:70: PossibleUserWarning: `max_epochs` was not set. Setting it to 1000 epochs. To train without an epoch limit, set `max_epochs=-1`.\n",
      "  rank_zero_warn(\n",
      "/home/nikgr/miniconda3/envs/legnet/lib/python3.11/site-packages/lightning/pytorch/trainer/configuration_validator.py:70: PossibleUserWarning: You defined a `validation_step` but have no `val_dataloader`. Skipping val loop.\n",
      "  rank_zero_warn(\n",
      "LOCAL_RANK: 0 - CUDA_VISIBLE_DEVICES: [0,1]\n",
      "Loading `train_dataloader` to estimate number of stepping batches.\n"
     ]
    },
    {
     "data": {
      "application/vnd.jupyter.widget-view+json": {
       "model_id": "fdc141cb9a2a4eed8726748051a97184",
       "version_major": 2,
       "version_minor": 0
      },
      "text/plain": [
       "Finding best initial lr:   0%|          | 0/100 [00:00<?, ?it/s]"
      ]
     },
     "metadata": {},
     "output_type": "display_data"
    },
    {
     "name": "stderr",
     "output_type": "stream",
     "text": [
      "/home/nikgr/miniconda3/envs/legnet/lib/python3.11/site-packages/torch/optim/lr_scheduler.py:139: UserWarning: Detected call of `lr_scheduler.step()` before `optimizer.step()`. In PyTorch 1.1.0 and later, you should call them in the opposite order: `optimizer.step()` before `lr_scheduler.step()`.  Failure to do this will result in PyTorch skipping the first value of the learning rate schedule. See more details at https://pytorch.org/docs/stable/optim.html#how-to-adjust-learning-rate\n",
      "  warnings.warn(\"Detected call of `lr_scheduler.step()` before `optimizer.step()`. \"\n",
      "`Trainer.fit` stopped: `max_steps=100` reached.\n",
      "Learning rate set to 0.0013182567385564075\n",
      "Restoring states from the checkpoint path at model/model/.lr_find_5a35a765-65c3-4eae-a4ba-c4ebebec5f0d.ckpt\n",
      "Restored all states from the checkpoint at model/model/.lr_find_5a35a765-65c3-4eae-a4ba-c4ebebec5f0d.ckpt\n"
     ]
    },
    {
     "name": "stdout",
     "output_type": "stream",
     "text": [
      "Suggested lr: 0.0013182567385564075\n"
     ]
    },
    {
     "data": {
      "image/png": "[encoded data removed]",
      "text/plain": [
       "<Figure size 640x480 with 1 Axes>"
      ]
     },
     "metadata": {},
     "output_type": "display_data"
    }
   ],
   "source": [
    "model = LitModel(max_lr)\n",
    "print('Parameter count: ', parameter_count(model))\n",
    "\n",
    "# Create Sequence DataModule and specifically train DataLoader\n",
    "data = SeqDataModule(train_path=train_path,\n",
    "                     valid_path=valid_path,\n",
    "                     test_path=test_path)\n",
    "\n",
    "train_dl = data.train_dataloader()\n",
    "\n",
    "# Create Trainer, pass selected gpu device\n",
    "dump_dir = model_dir / \"model\"\n",
    "trainer = pl.Trainer(accelerator='gpu',\n",
    "                     devices=[device], \n",
    "                     precision='16-mixed',\n",
    "                     gradient_clip_val=1,\n",
    "                     default_root_dir=dump_dir)\n",
    "\n",
    "# Create pl.tuner.Tuner instance\n",
    "tuner = pl.tuner.Tuner(trainer)\n",
    "\n",
    "# Run learning rate finder\n",
    "lr_finder = tuner.lr_find(model,\n",
    "                          train_dataloaders=train_dl,\n",
    "                          attr_name='max_lr')\n",
    "\n",
    "# Plot with\n",
    "fig = lr_finder.plot(suggest=True)\n",
    "fig.show()\n",
    "\n",
    "# Pick point based on plot, or get suggestion\n",
    "new_lr = lr_finder.suggestion()\n",
    "print(f'Suggested lr: {new_lr:.6f}')"
   ]
  },
  {
   "cell_type": "markdown",
   "metadata": {},
   "source": [
    "## Train Model\n",
    "Here we'll train LegNet model with optimal learning rate (which was found on previous step by LR Finder)."
   ]
  },
  {
   "cell_type": "code",
   "execution_count": 21,
   "metadata": {},
   "outputs": [
    {
     "name": "stderr",
     "output_type": "stream",
     "text": [
      "Using 16bit Automatic Mixed Precision (AMP)\n",
      "GPU available: True (cuda), used: True\n",
      "TPU available: False, using: 0 TPU cores\n",
      "IPU available: False, using: 0 IPUs\n",
      "HPU available: False, using: 0 HPUs\n",
      "LOCAL_RANK: 0 - CUDA_VISIBLE_DEVICES: [0,1]\n",
      "Loading `train_dataloader` to estimate number of stepping batches.\n"
     ]
    },
    {
     "name": "stdout",
     "output_type": "stream",
     "text": [
      "Model parameters:  1323169\n"
     ]
    },
    {
     "name": "stderr",
     "output_type": "stream",
     "text": [
      "\n",
      "  | Name        | Type            | Params\n",
      "------------------------------------------------\n",
      "0 | model       | LegNet          | 1.3 M \n",
      "1 | loss        | MSELoss         | 0     \n",
      "2 | val_pearson | PearsonCorrCoef | 0     \n",
      "------------------------------------------------\n",
      "1.3 M     Trainable params\n",
      "0         Non-trainable params\n",
      "1.3 M     Total params\n",
      "5.293     Total estimated model params size (MB)\n"
     ]
    },
    {
     "data": {
      "application/vnd.jupyter.widget-view+json": {
       "model_id": "91ffe5ebbbfe4e68bd515c65f0ba3c73",
       "version_major": 2,
       "version_minor": 0
      },
      "text/plain": [
       "Sanity Checking: 0it [00:00, ?it/s]"
      ]
     },
     "metadata": {},
     "output_type": "display_data"
    },
    {
     "data": {
      "application/vnd.jupyter.widget-view+json": {
       "model_id": "9ba633c6ad3b47898f01e693dde2cd30",
       "version_major": 2,
       "version_minor": 0
      },
      "text/plain": [
       "Training: 0it [00:00, ?it/s]"
      ]
     },
     "metadata": {},
     "output_type": "display_data"
    },
    {
     "name": "stderr",
     "output_type": "stream",
     "text": [
      "/home/nikgr/miniconda3/envs/legnet/lib/python3.11/site-packages/torch/optim/lr_scheduler.py:139: UserWarning: Detected call of `lr_scheduler.step()` before `optimizer.step()`. In PyTorch 1.1.0 and later, you should call them in the opposite order: `optimizer.step()` before `lr_scheduler.step()`.  Failure to do this will result in PyTorch skipping the first value of the learning rate schedule. See more details at https://pytorch.org/docs/stable/optim.html#how-to-adjust-learning-rate\n",
      "  warnings.warn(\"Detected call of `lr_scheduler.step()` before `optimizer.step()`. \"\n"
     ]
    },
    {
     "data": {
      "application/vnd.jupyter.widget-view+json": {
       "model_id": "9f875967b83d4a67b830f75cfabb4654",
       "version_major": 2,
       "version_minor": 0
      },
      "text/plain": [
       "Validation: 0it [00:00, ?it/s]"
      ]
     },
     "metadata": {},
     "output_type": "display_data"
    },
    {
     "data": {
      "application/vnd.jupyter.widget-view+json": {
       "model_id": "9cfb6f18987542f49fdd912dd1261a94",
       "version_major": 2,
       "version_minor": 0
      },
      "text/plain": [
       "Validation: 0it [00:00, ?it/s]"
      ]
     },
     "metadata": {},
     "output_type": "display_data"
    },
    {
     "data": {
      "application/vnd.jupyter.widget-view+json": {
       "model_id": "2acb5c768a4543c682ed21867efc9fd3",
       "version_major": 2,
       "version_minor": 0
      },
      "text/plain": [
       "Validation: 0it [00:00, ?it/s]"
      ]
     },
     "metadata": {},
     "output_type": "display_data"
    },
    {
     "data": {
      "application/vnd.jupyter.widget-view+json": {
       "model_id": "c22fb3991c9647fab7a8001310f9f5bf",
       "version_major": 2,
       "version_minor": 0
      },
      "text/plain": [
       "Validation: 0it [00:00, ?it/s]"
      ]
     },
     "metadata": {},
     "output_type": "display_data"
    },
    {
     "data": {
      "application/vnd.jupyter.widget-view+json": {
       "model_id": "be2d01d1012146b1998207a2e7e96ccd",
       "version_major": 2,
       "version_minor": 0
      },
      "text/plain": [
       "Validation: 0it [00:00, ?it/s]"
      ]
     },
     "metadata": {},
     "output_type": "display_data"
    },
    {
     "data": {
      "application/vnd.jupyter.widget-view+json": {
       "model_id": "0d3d1a60e6364556abd439d24365a750",
       "version_major": 2,
       "version_minor": 0
      },
      "text/plain": [
       "Validation: 0it [00:00, ?it/s]"
      ]
     },
     "metadata": {},
     "output_type": "display_data"
    },
    {
     "data": {
      "application/vnd.jupyter.widget-view+json": {
       "model_id": "c194b460e9eb4e8f94b9aab07e900ae5",
       "version_major": 2,
       "version_minor": 0
      },
      "text/plain": [
       "Validation: 0it [00:00, ?it/s]"
      ]
     },
     "metadata": {},
     "output_type": "display_data"
    },
    {
     "data": {
      "application/vnd.jupyter.widget-view+json": {
       "model_id": "9117961056e841969633a7eaafa897d2",
       "version_major": 2,
       "version_minor": 0
      },
      "text/plain": [
       "Validation: 0it [00:00, ?it/s]"
      ]
     },
     "metadata": {},
     "output_type": "display_data"
    },
    {
     "data": {
      "application/vnd.jupyter.widget-view+json": {
       "model_id": "acea7c4240a844f18c16f9a58760dba7",
       "version_major": 2,
       "version_minor": 0
      },
      "text/plain": [
       "Validation: 0it [00:00, ?it/s]"
      ]
     },
     "metadata": {},
     "output_type": "display_data"
    },
    {
     "data": {
      "application/vnd.jupyter.widget-view+json": {
       "model_id": "3347e6b65dbc4ec1a8f88fd736ac0450",
       "version_major": 2,
       "version_minor": 0
      },
      "text/plain": [
       "Validation: 0it [00:00, ?it/s]"
      ]
     },
     "metadata": {},
     "output_type": "display_data"
    },
    {
     "data": {
      "application/vnd.jupyter.widget-view+json": {
       "model_id": "be10630de8a04d2ba5394612b4282e9a",
       "version_major": 2,
       "version_minor": 0
      },
      "text/plain": [
       "Validation: 0it [00:00, ?it/s]"
      ]
     },
     "metadata": {},
     "output_type": "display_data"
    },
    {
     "data": {
      "application/vnd.jupyter.widget-view+json": {
       "model_id": "a317ce0975184359a0482c8488649c47",
       "version_major": 2,
       "version_minor": 0
      },
      "text/plain": [
       "Validation: 0it [00:00, ?it/s]"
      ]
     },
     "metadata": {},
     "output_type": "display_data"
    },
    {
     "data": {
      "application/vnd.jupyter.widget-view+json": {
       "model_id": "2c3818b74da64de38b4e1530f24414f0",
       "version_major": 2,
       "version_minor": 0
      },
      "text/plain": [
       "Validation: 0it [00:00, ?it/s]"
      ]
     },
     "metadata": {},
     "output_type": "display_data"
    },
    {
     "data": {
      "application/vnd.jupyter.widget-view+json": {
       "model_id": "ef5be47309d94322b2911c71e2039066",
       "version_major": 2,
       "version_minor": 0
      },
      "text/plain": [
       "Validation: 0it [00:00, ?it/s]"
      ]
     },
     "metadata": {},
     "output_type": "display_data"
    },
    {
     "data": {
      "application/vnd.jupyter.widget-view+json": {
       "model_id": "6c6902134f934a76b52ff7e099c845ad",
       "version_major": 2,
       "version_minor": 0
      },
      "text/plain": [
       "Validation: 0it [00:00, ?it/s]"
      ]
     },
     "metadata": {},
     "output_type": "display_data"
    },
    {
     "data": {
      "application/vnd.jupyter.widget-view+json": {
       "model_id": "6fa6e8415f0c4ec89c03e6a5c29544ba",
       "version_major": 2,
       "version_minor": 0
      },
      "text/plain": [
       "Validation: 0it [00:00, ?it/s]"
      ]
     },
     "metadata": {},
     "output_type": "display_data"
    },
    {
     "data": {
      "application/vnd.jupyter.widget-view+json": {
       "model_id": "42a66eb6e78b4d99b24b4c9b1a22364c",
       "version_major": 2,
       "version_minor": 0
      },
      "text/plain": [
       "Validation: 0it [00:00, ?it/s]"
      ]
     },
     "metadata": {},
     "output_type": "display_data"
    },
    {
     "data": {
      "application/vnd.jupyter.widget-view+json": {
       "model_id": "7c861876ace84ecebb237c90f15cd2e3",
       "version_major": 2,
       "version_minor": 0
      },
      "text/plain": [
       "Validation: 0it [00:00, ?it/s]"
      ]
     },
     "metadata": {},
     "output_type": "display_data"
    },
    {
     "data": {
      "application/vnd.jupyter.widget-view+json": {
       "model_id": "773952883efc4016ac193d4b06e654e9",
       "version_major": 2,
       "version_minor": 0
      },
      "text/plain": [
       "Validation: 0it [00:00, ?it/s]"
      ]
     },
     "metadata": {},
     "output_type": "display_data"
    },
    {
     "data": {
      "application/vnd.jupyter.widget-view+json": {
       "model_id": "4895d4eb5d924dcd9623d997614fe416",
       "version_major": 2,
       "version_minor": 0
      },
      "text/plain": [
       "Validation: 0it [00:00, ?it/s]"
      ]
     },
     "metadata": {},
     "output_type": "display_data"
    },
    {
     "name": "stderr",
     "output_type": "stream",
     "text": [
      "`Trainer.fit` stopped: `max_epochs=20` reached.\n"
     ]
    },
    {
     "ename": "TypeError",
     "evalue": "LitModel.__init__() missing 1 required positional argument: 'max_lr'",
     "output_type": "error",
     "traceback": [
      "\u001b[0;31m---------------------------------------------------------------------------\u001b[0m",
      "\u001b[0;31mTypeError\u001b[0m                                 Traceback (most recent call last)",
      "Cell \u001b[0;32mIn[21], line 34\u001b[0m\n\u001b[1;32m     23\u001b[0m trainer \u001b[38;5;241m=\u001b[39m pl\u001b[38;5;241m.\u001b[39mTrainer(accelerator\u001b[38;5;241m=\u001b[39m\u001b[38;5;124m'\u001b[39m\u001b[38;5;124mgpu\u001b[39m\u001b[38;5;124m'\u001b[39m,\n\u001b[1;32m     24\u001b[0m                      enable_checkpointing\u001b[38;5;241m=\u001b[39m\u001b[38;5;28;01mTrue\u001b[39;00m,\n\u001b[1;32m     25\u001b[0m                      devices\u001b[38;5;241m=\u001b[39m[device], \n\u001b[0;32m   (...)\u001b[0m\n\u001b[1;32m     29\u001b[0m                      gradient_clip_val\u001b[38;5;241m=\u001b[39m\u001b[38;5;241m1\u001b[39m,\n\u001b[1;32m     30\u001b[0m                      default_root_dir\u001b[38;5;241m=\u001b[39mdump_dir)\n\u001b[1;32m     32\u001b[0m trainer\u001b[38;5;241m.\u001b[39mfit(model, \n\u001b[1;32m     33\u001b[0m     datamodule\u001b[38;5;241m=\u001b[39mdata)\n\u001b[0;32m---> 34\u001b[0m model \u001b[38;5;241m=\u001b[39m LitModel\u001b[38;5;241m.\u001b[39mload_from_checkpoint(best_checkpoint_callback\u001b[38;5;241m.\u001b[39mbest_model_path)\n",
      "File \u001b[0;32m~/miniconda3/envs/legnet/lib/python3.11/site-packages/lightning/pytorch/core/module.py:1520\u001b[0m, in \u001b[0;36mLightningModule.load_from_checkpoint\u001b[0;34m(cls, checkpoint_path, map_location, hparams_file, strict, **kwargs)\u001b[0m\n\u001b[1;32m   1440\u001b[0m \u001b[38;5;129m@classmethod\u001b[39m\n\u001b[1;32m   1441\u001b[0m \u001b[38;5;28;01mdef\u001b[39;00m \u001b[38;5;21mload_from_checkpoint\u001b[39m(\n\u001b[1;32m   1442\u001b[0m     \u001b[38;5;28mcls\u001b[39m,\n\u001b[0;32m   (...)\u001b[0m\n\u001b[1;32m   1447\u001b[0m     \u001b[38;5;241m*\u001b[39m\u001b[38;5;241m*\u001b[39mkwargs: Any,\n\u001b[1;32m   1448\u001b[0m ) \u001b[38;5;241m-\u001b[39m\u001b[38;5;241m>\u001b[39m Self:\n\u001b[1;32m   1449\u001b[0m \u001b[38;5;250m    \u001b[39m\u001b[38;5;124mr\u001b[39m\u001b[38;5;124;03m\"\"\"\u001b[39;00m\n\u001b[1;32m   1450\u001b[0m \u001b[38;5;124;03m    Primary way of loading a model from a checkpoint. When Lightning saves a checkpoint\u001b[39;00m\n\u001b[1;32m   1451\u001b[0m \u001b[38;5;124;03m    it stores the arguments passed to ``__init__``  in the checkpoint under ``\"hyper_parameters\"``.\u001b[39;00m\n\u001b[0;32m   (...)\u001b[0m\n\u001b[1;32m   1518\u001b[0m \u001b[38;5;124;03m        y_hat = pretrained_model(x)\u001b[39;00m\n\u001b[1;32m   1519\u001b[0m \u001b[38;5;124;03m    \"\"\"\u001b[39;00m\n\u001b[0;32m-> 1520\u001b[0m     loaded \u001b[38;5;241m=\u001b[39m _load_from_checkpoint(\n\u001b[1;32m   1521\u001b[0m         \u001b[38;5;28mcls\u001b[39m,\n\u001b[1;32m   1522\u001b[0m         checkpoint_path,\n\u001b[1;32m   1523\u001b[0m         map_location,\n\u001b[1;32m   1524\u001b[0m         hparams_file,\n\u001b[1;32m   1525\u001b[0m         strict,\n\u001b[1;32m   1526\u001b[0m         \u001b[38;5;241m*\u001b[39m\u001b[38;5;241m*\u001b[39mkwargs,\n\u001b[1;32m   1527\u001b[0m     )\n\u001b[1;32m   1528\u001b[0m     \u001b[38;5;28;01mreturn\u001b[39;00m cast(Self, loaded)\n",
      "File \u001b[0;32m~/miniconda3/envs/legnet/lib/python3.11/site-packages/lightning/pytorch/core/saving.py:89\u001b[0m, in \u001b[0;36m_load_from_checkpoint\u001b[0;34m(cls, checkpoint_path, map_location, hparams_file, strict, **kwargs)\u001b[0m\n\u001b[1;32m     87\u001b[0m     \u001b[38;5;28;01mreturn\u001b[39;00m _load_state(\u001b[38;5;28mcls\u001b[39m, checkpoint, \u001b[38;5;241m*\u001b[39m\u001b[38;5;241m*\u001b[39mkwargs)\n\u001b[1;32m     88\u001b[0m \u001b[38;5;28;01mif\u001b[39;00m \u001b[38;5;28missubclass\u001b[39m(\u001b[38;5;28mcls\u001b[39m, pl\u001b[38;5;241m.\u001b[39mLightningModule):\n\u001b[0;32m---> 89\u001b[0m     storage \u001b[38;5;241m=\u001b[39m _load_state(\u001b[38;5;28mcls\u001b[39m, checkpoint, strict\u001b[38;5;241m=\u001b[39mstrict, \u001b[38;5;241m*\u001b[39m\u001b[38;5;241m*\u001b[39mkwargs)\n\u001b[1;32m     90\u001b[0m     state_dict \u001b[38;5;241m=\u001b[39m checkpoint[\u001b[38;5;124m\"\u001b[39m\u001b[38;5;124mstate_dict\u001b[39m\u001b[38;5;124m\"\u001b[39m]\n\u001b[1;32m     91\u001b[0m     \u001b[38;5;28;01mif\u001b[39;00m \u001b[38;5;129;01mnot\u001b[39;00m state_dict:\n",
      "File \u001b[0;32m~/miniconda3/envs/legnet/lib/python3.11/site-packages/lightning/pytorch/core/saving.py:141\u001b[0m, in \u001b[0;36m_load_state\u001b[0;34m(cls, checkpoint, strict, **cls_kwargs_new)\u001b[0m\n\u001b[1;32m    137\u001b[0m \u001b[38;5;28;01mif\u001b[39;00m \u001b[38;5;129;01mnot\u001b[39;00m cls_spec\u001b[38;5;241m.\u001b[39mvarkw:\n\u001b[1;32m    138\u001b[0m     \u001b[38;5;66;03m# filter kwargs according to class init unless it allows any argument via kwargs\u001b[39;00m\n\u001b[1;32m    139\u001b[0m     _cls_kwargs \u001b[38;5;241m=\u001b[39m {k: v \u001b[38;5;28;01mfor\u001b[39;00m k, v \u001b[38;5;129;01min\u001b[39;00m _cls_kwargs\u001b[38;5;241m.\u001b[39mitems() \u001b[38;5;28;01mif\u001b[39;00m k \u001b[38;5;129;01min\u001b[39;00m cls_init_args_name}\n\u001b[0;32m--> 141\u001b[0m obj \u001b[38;5;241m=\u001b[39m \u001b[38;5;28mcls\u001b[39m(\u001b[38;5;241m*\u001b[39m\u001b[38;5;241m*\u001b[39m_cls_kwargs)\n\u001b[1;32m    143\u001b[0m \u001b[38;5;28;01mif\u001b[39;00m \u001b[38;5;28misinstance\u001b[39m(obj, pl\u001b[38;5;241m.\u001b[39mLightningModule):\n\u001b[1;32m    144\u001b[0m     \u001b[38;5;66;03m# give model a chance to load something\u001b[39;00m\n\u001b[1;32m    145\u001b[0m     obj\u001b[38;5;241m.\u001b[39mon_load_checkpoint(checkpoint)\n",
      "\u001b[0;31mTypeError\u001b[0m: LitModel.__init__() missing 1 required positional argument: 'max_lr'"
     ]
    }
   ],
   "source": [
    "model = LitModel(new_lr)\n",
    "print(\"Model parameters: \", parameter_count(model).item())\n",
    "\n",
    "# Create train & test DataLoaders\n",
    "train_dl = data.train_dataloader()\n",
    "valid_dl = data.val_dataloader()\n",
    "\n",
    "# Setup model checkpoints for the model from the last epoch and for the best (in terms of pearson correlation on validation split) model\n",
    "dump_dir = model_dir / f\"model\"\n",
    "last_checkpoint_callback = pl.callbacks.ModelCheckpoint(   #type: ignore\n",
    "    save_top_k=1,\n",
    "    monitor=\"step\",\n",
    "    mode=\"max\",\n",
    "    filename=\"last_model-{epoch}\",\n",
    "    save_on_train_epoch_end=True,\n",
    ")\n",
    "        \n",
    "best_checkpoint_callback = ModelCheckpoint(\n",
    "    save_top_k=1,\n",
    "    monitor=\"val_pearson\",\n",
    "    mode=\"max\",\n",
    "    filename=\"pearson-{epoch:02d}-{val_pearson:.2f}\",\n",
    ")\n",
    "\n",
    "# Create Trainer, pass callbacks and desired number of epochs\n",
    "trainer = pl.Trainer(accelerator='gpu',\n",
    "                     enable_checkpointing=True,\n",
    "                     devices=[device], \n",
    "                     precision='16-mixed', \n",
    "                     max_epochs=epoch_num,\n",
    "                     callbacks=[last_checkpoint_callback,  best_checkpoint_callback],\n",
    "                     gradient_clip_val=1,\n",
    "                     default_root_dir=dump_dir)\n",
    "\n",
    "# Train model\n",
    "trainer.fit(model, \n",
    "    datamodule=data)"
   ]
  },
  {
   "cell_type": "markdown",
   "metadata": {},
   "source": [
    "## Test Model\n",
    "Here is code for predictions generation."
   ]
  },
  {
   "cell_type": "code",
   "execution_count": 32,
   "metadata": {},
   "outputs": [
    {
     "name": "stderr",
     "output_type": "stream",
     "text": [
      "LOCAL_RANK: 0 - CUDA_VISIBLE_DEVICES: [0,1]\n"
     ]
    },
    {
     "data": {
      "application/vnd.jupyter.widget-view+json": {
       "model_id": "d42703d6264448bf8d18f658bf0e9196",
       "version_major": 2,
       "version_minor": 0
      },
      "text/plain": [
       "Predicting: 0it [00:00, ?it/s]"
      ]
     },
     "metadata": {},
     "output_type": "display_data"
    },
    {
     "name": "stderr",
     "output_type": "stream",
     "text": [
      "LOCAL_RANK: 0 - CUDA_VISIBLE_DEVICES: [0,1]\n"
     ]
    },
    {
     "data": {
      "application/vnd.jupyter.widget-view+json": {
       "model_id": "2813edfd1cc147c59c1063a2eb50c3f8",
       "version_major": 2,
       "version_minor": 0
      },
      "text/plain": [
       "Predicting: 0it [00:00, ?it/s]"
      ]
     },
     "metadata": {},
     "output_type": "display_data"
    }
   ],
   "source": [
    "# Load best model and test it (create prediction for test data)\n",
    "model = LitModel.load_from_checkpoint(best_checkpoint_callback.best_model_path, max_lr=new_lr)\n",
    "df_pred = save_predict(trainer, \n",
    "                       model, \n",
    "                       data,\n",
    "                       save_dir=dump_dir)"
   ]
  }
 ],
 "metadata": {
  "kernelspec": {
   "display_name": "legnet",
   "language": "python",
   "name": "python3"
  },
  "language_info": {
   "codemirror_mode": {
    "name": "ipython",
    "version": 3
   },
   "file_extension": ".py",
   "mimetype": "text/x-python",
   "name": "python",
   "nbconvert_exporter": "python",
   "pygments_lexer": "ipython3",
   "version": "3.11.4"
  }
 },
 "nbformat": 4,
 "nbformat_minor": 2
}
